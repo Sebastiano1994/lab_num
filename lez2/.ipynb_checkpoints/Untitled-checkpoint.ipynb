{
 "cells": [
  {
   "cell_type": "markdown",
   "metadata": {},
   "source": [
    "**Random walks**"
   ]
  },
  {
   "cell_type": "markdown",
   "metadata": {},
   "source": [
    "In this exercise our task is to simulate a random 3D walk, both in a discrete and a continuous version, then sample $\\sqrt{\\left<R_i^2\\right>}$ for each $i$-th step ($R_i^2$ being the modulus $x_i^2+y_i^2+z_i^2$). What we have to do is thus generate many trajectories in order to average over each $R_i$: this makes us describe $R_i$ more just like $R_{ij}$, where $i$ means the actual step, $j$ the peculiar trajectory we're considering. We may want to simulate 100 steps for a random walk, what's matter is to have a huge number of trajectories for our 100 averages (one average for each step); we've generated something like $10^4$ trajectories, making each of them evolve for 100 steps and start from the origin, which means $x_{0j}=y_{0j}=z_{0j}=0 \\; \\forall j$ (starting position, index $0$, is null for all $j$ trajectories). To do this, let's allocate three double arrays, i.e. three matrices, each of them containing in memory the $i$-th cartesian position for the $j$-th trajectory; we have accomplished this in our file main.cpp, from here on, in this file, it follows all the algorithm we're going to describe. Our arrays will be initialized as"
   ]
  },
  {
   "cell_type": "markdown",
   "metadata": {},
   "source": [
    "$x[M][T], y[M][T], z[M][T]$"
   ]
  },
  {
   "cell_type": "markdown",
   "metadata": {},
   "source": [
    "where M stands for the number of steps, and T is the number of trajectories. For a discrete walk, we will allocate integer values, while for the continuous path we'll deal with arrays of double. After allocation, we have to set all initial values $x_0, y_0$ and $z_0$ to zero for all trajectories."
   ]
  },
  {
   "cell_type": "markdown",
   "metadata": {},
   "source": [
    "For a discrete path, we have to output a random number which can be $\\pm1$: to do this, we use our generator to produce a random variable b in $[0;1]$, then we subtract $0.5$. If b is positive, our $x_{i+1}$ value will be $x_{i+1}=x_i+1$, otherwise will be $x_{i+1}=x_i-1$, this to be made for $y$ and $z$ too and for all trajectories we're producing. "
   ]
  },
  {
   "cell_type": "markdown",
   "metadata": {},
   "source": [
    "Quite different for continuous trajectories: in this case we'll generate two angles $\\phi$ and $\\theta$ in range $[0; 2 \\pi]$ and $[0; \\pi]$ respectively, then we'll convert them in cartesian coordinates via the usual diffeomorphism:"
   ]
  },
  {
   "cell_type": "markdown",
   "metadata": {},
   "source": [
    "$$\\begin{align}\n",
    "x = r\\cos{\\phi}\\sin{\\theta} \\\\\n",
    "y = r\\sin{\\phi}\\sin{\\theta} \\\\\n",
    "z = r\\cos{\\theta}\n",
    "\\end{align}\n",
    "$$"
   ]
  },
  {
   "cell_type": "markdown",
   "metadata": {},
   "source": [
    "r is fixed as 1; having this triplet $(x,y,z)$ and the previous $x_i, y_i, z_i$ positions (which are not the previous triplet!), we may calculate the new ones as $x_{i+1} = x_i + x$ and so on for $y_{i+1}$ and $z_{i+1}$."
   ]
  },
  {
   "cell_type": "markdown",
   "metadata": {},
   "source": [
    "After we've generated all the trajectories, we have to average on them for each step, something like that:"
   ]
  },
  {
   "cell_type": "markdown",
   "metadata": {},
   "source": [
    "    for i in range(M): #cycling over steps\n",
    "        for j in range(T): #cycling over trajectories\n",
    "            R2[i] += x[i][j]**2 + y[i][j]**2+z[i][j]**2\n",
    "        R2[i]/=T"
   ]
  },
  {
   "cell_type": "markdown",
   "metadata": {},
   "source": [
    "After these cycles, we are ready with a vector of $\\left<R^2\\right>$ values. However, we want a calculation of $\\sqrt{\\left<R^2\\right>}$ and its relative errors, while we have exported $R^2$ data and relative errors in files dati_cont.csv, err_cont.csv for continuous path, dati_discr.csv and err_discr.csv for discrete one: blocking computation and plotting are left to script.py algorithms. However, in order to plot $\\sqrt{\\left<R^2\\right>}$ errors (and not $\\left<R^2\\right>$ ones), we have to propagate uncertainties: let's call the first one $y=\\sqrt{x}$ and the second one $x$, we conform to uncertainties propagation formula:"
   ]
  },
  {
   "cell_type": "markdown",
   "metadata": {},
   "source": [
    "$$ \\sigma_y = \\left| \\frac{\\partial y}{\\partial x} \\sigma_x \\right| = \\frac{1}{2\\sqrt{x}} \\sigma_x $$"
   ]
  },
  {
   "cell_type": "code",
   "execution_count": null,
   "metadata": {
    "collapsed": true
   },
   "outputs": [],
   "source": []
  }
 ],
 "metadata": {
  "kernelspec": {
   "display_name": "Python 3",
   "language": "python",
   "name": "python3"
  },
  "language_info": {
   "codemirror_mode": {
    "name": "ipython",
    "version": 3
   },
   "file_extension": ".py",
   "mimetype": "text/x-python",
   "name": "python",
   "nbconvert_exporter": "python",
   "pygments_lexer": "ipython3",
   "version": "3.6.0"
  }
 },
 "nbformat": 4,
 "nbformat_minor": 2
}
