{
 "cells": [
  {
   "cell_type": "markdown",
   "metadata": {},
   "source": [
    "## <span style=\"color:blue\">  Molecular Dynamics for a System of Particles</span>"
   ]
  },
  {
   "cell_type": "markdown",
   "metadata": {},
   "source": [
    "In this exercise, we want to simulate an interacting system via a Lennard-Jones potential: we have 108 particles, each of them defined by its own position and velocity. To integrate numerically equations of motion, we've used Verlet algorithm, while for bypassing loss of interaction close to the box wall we've implemented periodic boundary conditions: each particle may interact with virtual ones close to the opposite edge. To avoid infinite virtual interactions, we've put a cut-off on Lennard-Jones range, adding a tail correction for remaining interactions."
   ]
  },
  {
   "cell_type": "markdown",
   "metadata": {},
   "source": [
    "As in Verlet scheme we need both velocities and positions (to integrate equations of motion), we have to generate randomly both $x_0$ and $v_0$ for all particles. However, talking about velocities, this could be a problem, as temperature is given by kinetic energy via the equipartition theorem, $E_{kin}$ being calculated from velocities we dispose; this may ask a non-indifferent amount of time for equilibration. To overcome this problem, we can introduce a new feature in our code: after a simulation, we can save all $\\vec{r}(t_f)$ and $\\vec{r}(t_f-dt)$ positions in two reading files (config.final and old.0 in our case), then introduce an option when initializing the next simulation. This option may be set in input.dat file: if option=1 we generate random velocities, else if option=0 we read from our files positions and calculate velocities, then we rescale these velocities according to the temperature we want to simulate our system in, and proceed with molecular dynamics and observables averaging."
   ]
  },
  {
   "cell_type": "markdown",
   "metadata": {},
   "source": [
    "**Measuring Quantities**"
   ]
  },
  {
   "cell_type": "markdown",
   "metadata": {},
   "source": [
    "As simulation has reached equilibrium (indeed, we hope so!), we can start saving some observables values, in order to average over them at the end of our simulation: the observables we're interested in are temperature, kinetic, potential and total energy, pressure. Kinetic energy (thus temperature consequentially) can be computed by sums of all squared velocities (rescaled by the number of particles), while potential energy from all values of Lennard-Jones interactions; total energy is nothing but the sum of the two previous ones. It's a little bit more interesting to calculate pressure: to do this, we can make use of virial theorem, which states"
   ]
  },
  {
   "cell_type": "markdown",
   "metadata": {},
   "source": [
    "$$ P = \\rho k_B T + \\frac{1}{3V} \\left\\langle \\sum_{i=1}^{N-1} \\sum_{j\\,(>i)}^N 48\\epsilon \\left[ \\left(\\frac{\\sigma}{|\\vec{r}_i -\\vec{r}_j|}\\right)^{12} - \n",
    "\\frac{1}{2} \\left(\\frac{\\sigma}{|\\vec{r}_i -\\vec{r}_j|}\\right)^6 \\right] \\right\\rangle $$"
   ]
  },
  {
   "cell_type": "markdown",
   "metadata": {},
   "source": [
    "Writing our code, the angle bracket term has been inserted under potential energy evaluation (at line 283 and 287), taking into account even the cut-off for interactions."
   ]
  },
  {
   "cell_type": "markdown",
   "metadata": {},
   "source": [
    "All we need from M.D. is thus average of potential and kinetic: all the other thermodynamic observables derive from these. More important, we have to remember all simulations are made by usage of natural units to avoid underflow/overflow: we have to rescale some quantities such as"
   ]
  },
  {
   "cell_type": "markdown",
   "metadata": {},
   "source": [
    "$$ r \\rightarrow \\frac{r}{\\sigma}, \\quad V \\rightarrow \\frac{V}{\\varepsilon}, \\quad m \\rightarrow 1$$"
   ]
  },
  {
   "cell_type": "markdown",
   "metadata": {},
   "source": [
    "with $V$ as the potential (not the volume); all other quantities transform following lenght, mass and energy scales. Now, let's have a general overview on these quantities: let's simulate our system, starting from random velocities, in natural units, and let's see the trend of energy, temperature and pressure:"
   ]
  },
  {
   "cell_type": "markdown",
   "metadata": {},
   "source": [
    "<img src=\"reboot/graphs/Kinetic_Energy.png\" />\n",
    "<img src=\"reboot/graphs/Potential_energy.png\" />\n",
    "<img src=\"reboot/graphs/Total_energy.png\" />\n",
    "Kinetic, potential and total energy respectively\n"
   ]
  },
  {
   "cell_type": "markdown",
   "metadata": {},
   "source": [
    "<img src=\"reboot/graphs/Temperature.png\" />\n",
    "Temperature"
   ]
  },
  {
   "cell_type": "markdown",
   "metadata": {},
   "source": [
    "<img src=\"reboot/graphs/Pressure.png\" />\n",
    "Pressure"
   ]
  },
  {
   "cell_type": "markdown",
   "metadata": {},
   "source": [
    "Graphs are plotted by av.py script, importing data from output files (one different output file for each observable). As we may see, global averages stabilize one final values, which are indeed far more different from those expected: in particular, temperature drifts away from the starting value (from 1.9 to 1.6!), as well as kinetic energy, which is a consequence of random starting velocities; this underlines the importance of restarting new simulations rescaling starting velocities in a proper way. It may happens that velocities rescaling will take more than one simulation: after first random-velocities simulation, keep going with simulations until temperature has reached its equilibrium on the value we want to simulate on."
   ]
  },
  {
   "cell_type": "markdown",
   "metadata": {},
   "source": [
    "**Real Matter: Argon**"
   ]
  },
  {
   "cell_type": "markdown",
   "metadata": {},
   "source": [
    "Now let's make Here we have to simulate real systems for different phases of matter: let's start with Argon, we want to study the previous thermodynamic quantities on solid phase ($T^*$=0.8, $\\rho^*$=1.1), liquid phase ($T^*$=1.1, $\\rho^*$=0.8) and gas phase ($T^*$=1.1, $\\rho^*$=0.8$). However, as we're dealing with real matter, at the end of computation (and not during!) we should be able to reintroduce S.I. units to rescale our quantities: rescaling factors have been defined in MolDyn_NVE.h file, then introduced in MolDyn_NVE.cpp when exporting data in output files. Furthermore, in order to compare these results with those from exercise 7, we've introduced tail corrections for the cut-off. Here the pictures of our results at equilibrium (obtained by data blocking) for solid matter:"
   ]
  },
  {
   "cell_type": "markdown",
   "metadata": {},
   "source": [
    "<img src=\"matter/argon/solid/graphs/Kinetic_Energy.png\" />\n",
    "Kinetic energy\n",
    "<img src=\"matter/argon/solid/graphs/Potential_energy.png\" />\n",
    "Potential energy\n",
    "<img src=\"matter/argon/solid/graphs/Total_energy.png\" />\n",
    "Total energy\n",
    "<img src=\"matter/argon/solid/graphs/Temperature.png\" />\n",
    "Temperature\n",
    "<img src=\"matter/argon/solid/graphs/Pressure.png\" />\n",
    "Pressure"
   ]
  },
  {
   "cell_type": "markdown",
   "metadata": {},
   "source": [
    "Let's proceed for liquid matter:"
   ]
  },
  {
   "cell_type": "markdown",
   "metadata": {},
   "source": [
    "<img src=\"matter/argon/liquid/graphs/Kinetic_Energy.png\" />\n",
    "Kinetic energy\n",
    "<img src=\"matter/argon/liquid/graphs/Potential_energy.png\" />\n",
    "Potential energy\n",
    "<img src=\"matter/argon/liquid/graphs/Total_energy.png\" />\n",
    "Total energy\n",
    "<img src=\"matter/argon/liquid/graphs/Temperature.png\" />\n",
    "Temperature\n",
    "<img src=\"matter/argon/liquid/graphs/Pressure.png\" />\n",
    "Pressure"
   ]
  },
  {
   "cell_type": "markdown",
   "metadata": {},
   "source": [
    "At last, gas phase:"
   ]
  },
  {
   "cell_type": "markdown",
   "metadata": {},
   "source": [
    "<img src=\"matter/argon/gas/graphs/Kinetic_Energy.png\" />\n",
    "Kinetic energy\n",
    "<img src=\"matter/argon/gas/graphs/Potential_energy.png\" />\n",
    "Potential energy\n",
    "<img src=\"matter/argon/gas/graphs/Total_energy.png\" />\n",
    "Total energy\n",
    "<img src=\"matter/argon/gas/graphs/Temperature.png\" />\n",
    "Temperature\n",
    "<img src=\"matter/argon/gas/graphs/Pressure.png\" />\n",
    "Pressure"
   ]
  },
  {
   "cell_type": "markdown",
   "metadata": {},
   "source": [
    "**Real Matter: Krypton**"
   ]
  },
  {
   "cell_type": "markdown",
   "metadata": {},
   "source": [
    "We repeat the previous results but this time for another element, Krypton; thermodynamic conditions in natural units ($T^*$, $\\rho^*$) are just the same as before, but rescaling masses, energy and lenght in S.I. changes! Of course, we start from solid phase of matter:"
   ]
  },
  {
   "cell_type": "markdown",
   "metadata": {},
   "source": [
    "<img src=\"matter/krypton/solid/graphs/Kinetic_Energy.png\" />\n",
    "Kinetic energy\n",
    "<img src=\"matter/krypton/solid/graphs/Potential_energy.png\" />\n",
    "Potential energy\n",
    "<img src=\"matter/krypton/solid/graphs/Total_energy.png\" />\n",
    "Total energy\n",
    "<img src=\"matter/krypton/solid/graphs/Temperature.png\" />\n",
    "Temperature\n",
    "<img src=\"matter/krypton/solid/graphs/Pressure.png\" />\n",
    "Pressure"
   ]
  },
  {
   "cell_type": "markdown",
   "metadata": {},
   "source": [
    "Now for liquid phase:"
   ]
  },
  {
   "cell_type": "markdown",
   "metadata": {},
   "source": [
    "<img src=\"matter/krypton/liquid/graphs/Kinetic_Energy.png\" />\n",
    "Kinetic energy\n",
    "<img src=\"matter/krypton/liquid/graphs/Potential_energy.png\" />\n",
    "Potential energy\n",
    "<img src=\"matter/krypton/liquid/graphs/Total_energy.png\" />\n",
    "Total energy\n",
    "<img src=\"matter/krypton/liquid/graphs/Temperature.png\" />\n",
    "Temperature\n",
    "<img src=\"matter/krypton/liquid/graphs/Pressure.png\" />\n",
    "Pressure"
   ]
  },
  {
   "cell_type": "markdown",
   "metadata": {},
   "source": [
    "At last, gas phase:"
   ]
  },
  {
   "cell_type": "markdown",
   "metadata": {},
   "source": [
    "<img src=\"matter/krypton/gas/graphs/Kinetic_Energy.png\" />\n",
    "Kinetic energy\n",
    "<img src=\"matter/krypton/gas/graphs/Potential_energy.png\" />\n",
    "Potential energy\n",
    "<img src=\"matter/krypton/gas/graphs/Total_energy.png\" />\n",
    "Total energy\n",
    "<img src=\"matter/krypton/gas/graphs/Temperature.png\" />\n",
    "Temperature\n",
    "<img src=\"matter/krypton/gas/graphs/Pressure.png\" />\n",
    "Pressure"
   ]
  }
 ],
 "metadata": {
  "kernelspec": {
   "display_name": "Python 3",
   "language": "python",
   "name": "python3"
  },
  "language_info": {
   "codemirror_mode": {
    "name": "ipython",
    "version": 3
   },
   "file_extension": ".py",
   "mimetype": "text/x-python",
   "name": "python",
   "nbconvert_exporter": "python",
   "pygments_lexer": "ipython3",
   "version": "3.6.0"
  }
 },
 "nbformat": 4,
 "nbformat_minor": 2
}
