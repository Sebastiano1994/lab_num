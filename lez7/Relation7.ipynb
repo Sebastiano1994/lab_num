{
 "cells": [
  {
   "cell_type": "markdown",
   "metadata": {},
   "source": [
    "## <span style=\"color:blue\">  Monte Carlo Matter Simulation</span>"
   ]
  },
  {
   "cell_type": "markdown",
   "metadata": {},
   "source": [
    "In this exercise we want to simulate a system of particles interacting via Lennard-Jones potential, very similarly to what we've done in exercise 4, but this time we'll make use of Monte Carlo technique: defining an increase $\\Delta$, we can move all particles positions, evaluate dynamical probability (given by Boltzmann distribution $e^{-\\beta V(x)}$), then use Metropolis to accept or discard our proposed move. Furthermore, we're interested in measuring potential energy per particle $U/N$ and pressure $P$, both istantaneous values and blocked ones: computation of istantaneous values has been obtained following Molecular Dynamics procedure: for each step, we measure all potential interactions between particles and pressure, we save them in a vector, then we print them on a output.0 file (output.epot.0 and output.pres.0 respectively)."
   ]
  },
  {
   "cell_type": "markdown",
   "metadata": {},
   "source": [
    "After that, we want to measure data time-correlation: to do this, we've repeated our simulations 1000 times, exporting istantaneous values of $U/N$ and $P$ in dati.csv file, then we've proceeded calculating autocorrelation with respect to time-zero quantities:"
   ]
  },
  {
   "cell_type": "markdown",
   "metadata": {},
   "source": [
    "$$ C(t) = \\frac{\\left< x(t) x(0) \\right> - \\left< x(t) \\right> \\left< x(0) \\right>}{\\left< x^2(0) \\right>} = \\frac{\\left< x(t) x(0) \\right> - \\left< x(t) \\right> \\left< x(0) \\right>}{\\sigma^2}$$"
   ]
  },
  {
   "cell_type": "markdown",
   "metadata": {},
   "source": [
    "where $x$ can be any of our quantities we want to measure (i.e. pressure and potential). Supposing a typical timescale $\\tau$>1 but not >>1, at which measures will be all uncorrelated, we can make evolving our system for something like 100 steps, then study $\\tau$ value; otherwise, simulation will take far too long time (something like 2 hours vs ten minutes!). Of course, when studying matter properties and averaging observables (on Argon and Krypton for instance), we'll set a huger number of steps for simulations, but here we're just interested in autocorrelations. All autocorrelations $C(t)$ have been computed and plotted by autocorr.py script, $\\tau$ values have been interpolated by python functions and saved in uncorrelation.txt files; all raw data have been saved in dati.csv files. Furthermore, we have to differentiate for each state of matter: you can find all data in the opportune directories: open experiment directory, then you'll find all you need for each matter phase. All codes are in Monte_Carlo directory, all correlation files in Monte_Carlo/experiment."
   ]
  },
  {
   "cell_type": "markdown",
   "metadata": {},
   "source": [
    "For beginning, we've set $T^*$=0.8 and $\\rho^*$=1.1 (solid phase); as result, we've been able to reproduce the following trend:"
   ]
  },
  {
   "cell_type": "markdown",
   "metadata": {},
   "source": [
    "<img src=\"Monte_Carlo/experiment/solid/autocorr_potential.png\" />\n",
    "for potential"
   ]
  },
  {
   "cell_type": "markdown",
   "metadata": {},
   "source": [
    "<img src=\"Monte_Carlo/experiment/solid/autocorr_pressure.png\" />\n",
    "for pressure"
   ]
  },
  {
   "cell_type": "markdown",
   "metadata": {},
   "source": [
    "Fitting these trends with a negative exponential function $e^{-t/\\tau}$, we've obtained the following values: $\\tau$=4.36534883 for energy, $\\tau$=4.29512119 for pressure; this means, after nearly 20 steps, there's no more correlation between the starting values and the actual measures. At last, we furnish a graph of $g(r)$ in these thermodynamical conditions:"
   ]
  },
  {
   "cell_type": "markdown",
   "metadata": {},
   "source": [
    "<img src=\"Monte_Carlo/experiment/solid/g(r).png\" />"
   ]
  },
  {
   "cell_type": "markdown",
   "metadata": {},
   "source": [
    "Here errors are so thin we cannot see them. This plot can be obtained from data contained in file output.gofr.0 then rearranged by gr.py script; the values we've plotted here instead are saved in output.gave.0 file."
   ]
  },
  {
   "cell_type": "markdown",
   "metadata": {},
   "source": [
    "Let's try with new thermodynamical conditions: $T^*$=1.1 and $\\rho^*$=0.8 (liquid phase), then repeat the previous averages:"
   ]
  },
  {
   "cell_type": "markdown",
   "metadata": {},
   "source": [
    "<img src=\"Monte_Carlo/experiment/liquid/autocorr_potential.png\" />\n",
    "is the potential correlation decay"
   ]
  },
  {
   "cell_type": "markdown",
   "metadata": {
    "collapsed": true
   },
   "source": [
    "<img src=\"Monte_Carlo/experiment/liquid/autocorr_pressure.png\" />\n",
    "is the pressure one"
   ]
  },
  {
   "cell_type": "markdown",
   "metadata": {},
   "source": [
    "<img src=\"Monte_Carlo/experiment/liquid/g(r).png\" />\n",
    "the radial distribution"
   ]
  },
  {
   "cell_type": "markdown",
   "metadata": {},
   "source": [
    "The $\\tau$ we've found are respectively 2.89385766 for energy and 3.02117942 for pressure. At last, our data for gas matter, $\\rho^*$=0.05 and $T^*$=1.2:"
   ]
  },
  {
   "cell_type": "markdown",
   "metadata": {
    "collapsed": true
   },
   "source": [
    "<img src=\"Monte_Carlo/experiment/gas/autocorr_potential.png\" />\n",
    "for potential"
   ]
  },
  {
   "cell_type": "markdown",
   "metadata": {},
   "source": [
    "<img src=\"Monte_Carlo/experiment/gas/autocorr_pressure.png\" />\n",
    "for pressure"
   ]
  },
  {
   "cell_type": "markdown",
   "metadata": {},
   "source": [
    "<img src=\"Monte_Carlo/experiment/gas/g(r).png\" />\n",
    "for radial distribution"
   ]
  },
  {
   "cell_type": "markdown",
   "metadata": {},
   "source": [
    "For gas, correlations are further smaller: $\\tau$=1.99538406 for potential and $\\tau$=0.8468587 for pressure"
   ]
  },
  {
   "cell_type": "markdown",
   "metadata": {},
   "source": [
    "**Real Matter Simulation: Argon**"
   ]
  },
  {
   "cell_type": "markdown",
   "metadata": {},
   "source": [
    "The next purpose is to observe $U/N$, $P$ and $g(r)$ behaviour for real substances, such as Argon and Krypton, for each of their three phases of matter. Let's start with Argon in solid phase:"
   ]
  },
  {
   "cell_type": "markdown",
   "metadata": {},
   "source": [
    "<img src=\"matter/argon/solid/Potential.png\" />\n",
    "for potential energy"
   ]
  },
  {
   "cell_type": "markdown",
   "metadata": {},
   "source": [
    "<img src=\"matter/argon/solid/Pressure.png\" />\n",
    "for pressure"
   ]
  },
  {
   "cell_type": "markdown",
   "metadata": {},
   "source": [
    "<img src=\"matter/argon/solid/g(r).png\" />\n",
    "for the radial distribution. \n"
   ]
  },
  {
   "cell_type": "markdown",
   "metadata": {},
   "source": [
    "Let's deal with liquid phase:"
   ]
  },
  {
   "cell_type": "markdown",
   "metadata": {},
   "source": [
    "<img src=\"matter/argon/liquid/Potential.png\" />\n",
    "for potential energy"
   ]
  },
  {
   "cell_type": "markdown",
   "metadata": {},
   "source": [
    "<img src=\"matter/argon/liquid/Pressure.png\" />\n",
    "for pressure"
   ]
  },
  {
   "cell_type": "markdown",
   "metadata": {},
   "source": [
    "<img src=\"matter/argon/liquid/g(r).png\" />\n",
    "for radial distribution"
   ]
  },
  {
   "cell_type": "markdown",
   "metadata": {},
   "source": [
    "At last, with gas thermodynamic phase:"
   ]
  },
  {
   "cell_type": "markdown",
   "metadata": {},
   "source": [
    "<img src=\"matter/argon/gas/Potential.png\" />\n",
    "for potential"
   ]
  },
  {
   "cell_type": "markdown",
   "metadata": {},
   "source": [
    "<img src=\"matter/argon/gas/Pressure.png\" />\n",
    "for pressure"
   ]
  },
  {
   "cell_type": "markdown",
   "metadata": {},
   "source": [
    "<img src=\"matter/argon/gas/g(r).png\" />\n",
    "for radial distribution"
   ]
  },
  {
   "cell_type": "markdown",
   "metadata": {},
   "source": [
    "As we can notice, by introducing tail corrections in exercise 4, all observables trends accord to those in Molecular Dynamics, Monte Carlo proving to be a little bit more stable, when averaging over quantities and reaching equilibrium (expecially in gas phase)."
   ]
  },
  {
   "cell_type": "markdown",
   "metadata": {},
   "source": [
    "**Matter Simulation: Krypton**"
   ]
  },
  {
   "cell_type": "markdown",
   "metadata": {},
   "source": [
    "We'll repropose the same method but instead of Argon we'll use Krypton: here some graphs for the solid phase:"
   ]
  },
  {
   "cell_type": "markdown",
   "metadata": {},
   "source": [
    "<img src=\"matter/krypton/solid/Potential.png\" />\n",
    "for potential"
   ]
  },
  {
   "cell_type": "markdown",
   "metadata": {},
   "source": [
    "<img src=\"matter/krypton/solid/Pressure.png\" />\n",
    "for pressure"
   ]
  },
  {
   "cell_type": "markdown",
   "metadata": {
    "collapsed": true
   },
   "source": [
    "<img src=\"matter/krypton/solid/g(r).png\" />\n",
    "for radial distribution"
   ]
  },
  {
   "cell_type": "markdown",
   "metadata": {},
   "source": [
    "Let's now show liquid results:"
   ]
  },
  {
   "cell_type": "markdown",
   "metadata": {},
   "source": [
    "<img src=\"matter/krypton/liquid/Potential.png\" />\n",
    "for potential"
   ]
  },
  {
   "cell_type": "markdown",
   "metadata": {},
   "source": [
    "<img src=\"matter/krypton/liquid/Pressure.png\" />\n",
    "for pressure"
   ]
  },
  {
   "cell_type": "markdown",
   "metadata": {},
   "source": [
    "<img src=\"matter/krypton/liquid/g(r).png\" />\n",
    "for radial distribution"
   ]
  },
  {
   "cell_type": "markdown",
   "metadata": {},
   "source": [
    "At last, gas phase:"
   ]
  },
  {
   "cell_type": "markdown",
   "metadata": {},
   "source": [
    "<img src=\"matter/krypton/gas/Potential.png\" />\n",
    "for potential"
   ]
  },
  {
   "cell_type": "markdown",
   "metadata": {},
   "source": [
    "<img src=\"matter/krypton/gas/Pressure.png\" />\n",
    "for pressure"
   ]
  },
  {
   "cell_type": "markdown",
   "metadata": {},
   "source": [
    "<img src=\"matter/krypton/gas/g(r).png\" />\n",
    "for radial distribution"
   ]
  },
  {
   "cell_type": "markdown",
   "metadata": {
    "collapsed": true
   },
   "source": [
    "Similarly for argon, we can say that even for krypton, both Monte Carlo and Molecular Dyamics produce analogous results."
   ]
  },
  {
   "cell_type": "code",
   "execution_count": null,
   "metadata": {
    "collapsed": true
   },
   "outputs": [],
   "source": []
  }
 ],
 "metadata": {
  "kernelspec": {
   "display_name": "Python 3",
   "language": "python",
   "name": "python3"
  },
  "language_info": {
   "codemirror_mode": {
    "name": "ipython",
    "version": 3
   },
   "file_extension": ".py",
   "mimetype": "text/x-python",
   "name": "python",
   "nbconvert_exporter": "python",
   "pygments_lexer": "ipython3",
   "version": "3.6.0"
  }
 },
 "nbformat": 4,
 "nbformat_minor": 2
}
