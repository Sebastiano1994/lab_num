{
 "cells": [
  {
   "cell_type": "markdown",
   "metadata": {},
   "source": [
    "## <span style=\"color:blue\">  Molecular Dynamics for a System of Particles</span>"
   ]
  },
  {
   "cell_type": "markdown",
   "metadata": {},
   "source": [
    "In this exercise, we want to simulate an interacting system via a Lennard-Jones potential: we have 108 particles, each of them defined by its own position and velocity. To integrate numerically equations of motion, we've used Verlet algorithm, while for bypassing loss of interaction close to the box wall we've implemented periodic boundary conditions: each particle may interact with virtual ones close to the opposite edge. To avoid infinite virtual interactions, we've put a cut-off on Lennard-Jones range, adding a tail correction for remaining interactions."
   ]
  },
  {
   "cell_type": "markdown",
   "metadata": {},
   "source": [
    "As in Verlet scheme we need both velocities and positions (to integrate equations of motion), we have to generate randomly both $x_0$ and $v_0$ for all particles. However, talking about velocities, this could be a problem, as temperature is given by kinetic energy via the equipartition theorem, $E_{kin}$ being calculated from velocities we dispose; this may ask a non-indifferent amount of time for equilibration. To overcome this problem, we can introduce a new feature in our code: after a simulation, we can save all $\\vec{r}(t_f)$ and $\\vec{r}(t_f-dt)$ positions in two reading files (config.final and old.0 in our case), then introduce an option when initializing the next simulation. This option may be set in input.dat file: if option=1 we generate random velocities, else if option=0 we read from our files positions and calculate velocities, then we rescale these velocities according to the temperature we want to simulate our system in, and proceed with molecular dynamics and observables averaging."
   ]
  },
  {
   "cell_type": "code",
   "execution_count": null,
   "metadata": {
    "collapsed": true
   },
   "outputs": [],
   "source": []
  }
 ],
 "metadata": {
  "kernelspec": {
   "display_name": "Python 3",
   "language": "python",
   "name": "python3"
  },
  "language_info": {
   "codemirror_mode": {
    "name": "ipython",
    "version": 3
   },
   "file_extension": ".py",
   "mimetype": "text/x-python",
   "name": "python",
   "nbconvert_exporter": "python",
   "pygments_lexer": "ipython3",
   "version": "3.6.0"
  }
 },
 "nbformat": 4,
 "nbformat_minor": 2
}
