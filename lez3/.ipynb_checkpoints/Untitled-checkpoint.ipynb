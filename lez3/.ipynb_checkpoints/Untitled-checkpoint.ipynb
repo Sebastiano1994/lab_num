{
 "cells": [
  {
   "cell_type": "markdown",
   "metadata": {},
   "source": [
    "## <span style=\"color:blue\">  Numerical exercises 3</span>"
   ]
  },
  {
   "cell_type": "markdown",
   "metadata": {},
   "source": [
    "In this exercise, we want to compute European call-option price $C[S(t), t]$ and put-option price $P[S(t),t]$ at time $t$=0; to do this, we need to simulate the asset price $S(t)$, whose value evolves like a Geometric Brownian Motion $GBM(r,\\sigma)$, being $r$ the risk-free interest rate and $\\sigma$ the volatility. Given a third parameter, strike price K, we know $C[S(t), t]$ and $P[S(t),t]$ can be obtained as"
   ]
  },
  {
   "cell_type": "markdown",
   "metadata": {},
   "source": [
    "$$ \\max\\left[0, \\left< S \\right> - K \\right], \\quad  \\max\\left[0, K - \\left< S \\right>  \\right] $$"
   ]
  },
  {
   "cell_type": "markdown",
   "metadata": {},
   "source": [
    "respectively. As our purpose is to evaluate $C[S(0),0]$ and $P[S(0), 0]$, we need to back-propagate these solutions:"
   ]
  },
  {
   "cell_type": "markdown",
   "metadata": {},
   "source": [
    "$$\\left< e^{-rT} \\max\\left[0,  S(T)  - K \\right]\\right>, \\quad \\left< e^{-rT}  \\max\\left[0, K -  S(T)   \\right] \\right> $$"
   ]
  },
  {
   "cell_type": "markdown",
   "metadata": {},
   "source": [
    "$T$ being the maximum amount of time. We have two ways to compute these averages:"
   ]
  },
  {
   "cell_type": "markdown",
   "metadata": {},
   "source": [
    "1. compute directly $S(T)$, then back-propagate and average.\n",
    "2. make $S(0)$ evolving though different \"trajectories\", then backpropagate and average on the final values."
   ]
  },
  {
   "cell_type": "markdown",
   "metadata": {},
   "source": [
    "That's what we did in the main.cpp code: after that, we've exported our data in C_discrete.csv and C_direct.csv files (and the same for P), then our python script proceeded with blocking averages and plotting:"
   ]
  },
  {
   "cell_type": "markdown",
   "metadata": {},
   "source": [
    "<img src=\"es/Call_direct.png\" />\n",
    "<img src=\"es/Put_direct.png\" />\n",
    "For the direct sampling"
   ]
  },
  {
   "cell_type": "markdown",
   "metadata": {},
   "source": [
    "<img src=\"es/Call_discrete.png\" />\n",
    "<img src=\"es/Put_discrete.png\" />\n",
    "For discrete-time path sampling"
   ]
  },
  {
   "cell_type": "markdown",
   "metadata": {},
   "source": [
    "Both the cases, all the results show to be almost compatible with the analytical solution given by Black and Scholes, whose value is represented by the straight orange line."
   ]
  },
  {
   "cell_type": "code",
   "execution_count": null,
   "metadata": {
    "collapsed": true
   },
   "outputs": [],
   "source": []
  }
 ],
 "metadata": {
  "kernelspec": {
   "display_name": "Python 3",
   "language": "python",
   "name": "python3"
  },
  "language_info": {
   "codemirror_mode": {
    "name": "ipython",
    "version": 3
   },
   "file_extension": ".py",
   "mimetype": "text/x-python",
   "name": "python",
   "nbconvert_exporter": "python",
   "pygments_lexer": "ipython3",
   "version": "3.6.0"
  }
 },
 "nbformat": 4,
 "nbformat_minor": 2
}
