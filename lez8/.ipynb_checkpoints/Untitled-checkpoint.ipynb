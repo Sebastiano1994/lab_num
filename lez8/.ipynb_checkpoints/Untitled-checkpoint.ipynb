{
 "cells": [
  {
   "cell_type": "markdown",
   "metadata": {},
   "source": [
    "## <span style=\"color:blue\">  Monte Carlo Variational Methods</span>\n"
   ]
  },
  {
   "cell_type": "markdown",
   "metadata": {},
   "source": [
    "In this exercize, we'll try to use Monte Carlo methods to find the best approximation for a ground state wave function $\\Psi(x)$ and its eigenvalue $E_0$. We're dealing with a monodimensional system, whose exact solution isn't known and its potential is given by"
   ]
  },
  {
   "cell_type": "markdown",
   "metadata": {},
   "source": [
    "$$ V(x) = x^4 - \\frac{5}{2}x^2 $$"
   ]
  },
  {
   "cell_type": "markdown",
   "metadata": {},
   "source": [
    "Thus we need to find a numerical solution. First of all, we approach a ground state representation by usage of a trial wavefunction $\\Psi_{\\mu, \\sigma}$, $\\sigma$ and $\\mu$ being parameters to be set. As $\\left|\\Psi_{\\mu, \\sigma}(x)\\right|^2$ gives us probability to find a particle in $x$, when moving from $x_0$ to $x_1$, our Metropolis acceptance will be shaped as"
   ]
  },
  {
   "cell_type": "markdown",
   "metadata": {},
   "source": [
    "$$\\left| \\frac{\\Psi_{\\mu, \\sigma}(x_1)}{\\Psi_{\\mu, \\sigma}(x_0)}\\right|^2$$"
   ]
  },
  {
   "cell_type": "markdown",
   "metadata": {},
   "source": [
    "Wheter we remain in $x_0$ or we move in $x_1$, after each step we have to evaluate total energy of the system in that point: hamiltonian average is given by"
   ]
  },
  {
   "cell_type": "markdown",
   "metadata": {},
   "source": [
    "$$ \\left< H \\right> = E = \\int dx \\frac{|\\Psi_{\\mu, \\sigma}(x)|^2}{\\int dx |\\Psi_{\\mu, \\sigma}(x)|^2} \\frac{{\\hat H} \\Psi_{\\mu, \\sigma}(x)}{\\Psi_{\\mu, \\sigma}(x)} = \\int dx \\; \\rho(x) \\frac{{\\hat H} \\Psi_{\\mu, \\sigma}(x)}{\\Psi_{\\mu, \\sigma}(x)}$$"
   ]
  },
  {
   "cell_type": "markdown",
   "metadata": {},
   "source": [
    "$\\rho(x)$ being the probability sampled by Metropolis algorithm. For this, after every Metropolis step, we have to evaluate the following quantity:"
   ]
  },
  {
   "cell_type": "markdown",
   "metadata": {},
   "source": [
    "$$ E(x) = -\\frac{\\hbar^2}{2m}\\frac{\\Psi_{\\mu, \\sigma}''(x)}{\\Psi_{\\mu, \\sigma}(x)} + V(x)$$"
   ]
  },
  {
   "cell_type": "markdown",
   "metadata": {},
   "source": [
    "For simplicity (and to avoid underflow), let's set $\\hbar$ and $m$ equal to 1. At the end, we have to average over all data for a specific set of $\\mu$ and $\\sigma$. Varying with $\\mu$ and $\\sigma$, we may explore the spectrum of our hamiltonian, to choose the best result for the ground state (i.e. the lowest $E$). Here's our trial wave function:"
   ]
  },
  {
   "cell_type": "markdown",
   "metadata": {},
   "source": [
    "$$ \\Psi_{\\mu, \\sigma}(x) = C \\,\\left[ e^{-\\frac{(x-\\mu)^2}{2\\sigma^2}}+\n",
    "                               e^{-\\frac{(x+\\mu)^2}{2\\sigma^2}} \\right] $$"
   ]
  },
  {
   "cell_type": "markdown",
   "metadata": {},
   "source": [
    "where $C$ stands for a useless constant that will be erased by each ratio (computing both $E(x)$ and Metropolis). Important: as the typical lenght is given by $\\sigma^2$, we rescaled the increase $\\Delta$ (when proposing a Metropolis move $x_1 = x_0 + \\Delta$) as $5\\sigma^2$; indeed, $5$ seemed to be the best compromise between respecting $50$% acceptance rule and minimizing energy.\n",
    "We started from $\\mu$=0 and $\\sigma$=0.1 values, computing energy averages through data blocking; after averaging, we've increased $\\mu$ by 0.1 units for ten times (keeping $\\sigma$ fixed), averaging for every $(\\mu, \\sigma)$ couple of values; at the end, reset $\\mu$=0 and increase $\\sigma$ by $0.1$ and so on. A scheme of our method consists in the following:"
   ]
  },
  {
   "cell_type": "markdown",
   "metadata": {},
   "source": [
    "    set mu=0.0, sigma=0.1\n",
    "    for i in 10:\n",
    "        for j in 10:\n",
    "            average on E\n",
    "            mu+=0.1\n",
    "        mu=0\n",
    "        sigma+=0.1\n",
    "    "
   ]
  },
  {
   "cell_type": "markdown",
   "metadata": {},
   "source": [
    "Final averages have been saved in Info.csv file: here you find three columns, showing $\\sigma$, $\\mu$ and total energy average. This file is read by script.py, which finds the energy minimum, returning $\\sigma$ and $\\mu$ corresponding to this energy value. After that, you may comment the cycles over $\\mu$ and $\\sigma$, insert best values in file input.dat (line 3 and 4 respectively); all $x$ positions sampled by Metropolis algorithm have been saved in Histo.csv file, from which we may fill a histogram representing our trial wave function; to do this, you can simply launch histo.py script, the result is the following:"
   ]
  },
  {
   "cell_type": "markdown",
   "metadata": {},
   "source": [
    "<img src=\"graphs/Psi2.png\" />"
   ]
  },
  {
   "cell_type": "markdown",
   "metadata": {},
   "source": [
    "which looks quite good if compared to PIGS plot:"
   ]
  },
  {
   "cell_type": "markdown",
   "metadata": {},
   "source": [
    "<img src=\"graphs/Psi2_PIGS.png\" />"
   ]
  },
  {
   "cell_type": "markdown",
   "metadata": {},
   "source": [
    "**Exploring PIGS and PIMS code**"
   ]
  },
  {
   "cell_type": "markdown",
   "metadata": {},
   "source": [
    "After Monte Carlo Variational methos, we explored PIGS algorithm: starting from $\\Psi=1$, we've tried to see how much imaginary-time steps we need to reach the minimum. Here some results:"
   ]
  },
  {
   "cell_type": "markdown",
   "metadata": {},
   "source": [
    "<img src=\"graphs/Psi2_0.02.png\" />\n",
    "for t=0.02"
   ]
  },
  {
   "cell_type": "markdown",
   "metadata": {},
   "source": [
    "<img src=\"graphs/Psi2_0.05.png\" />\n",
    "for t=0.05"
   ]
  },
  {
   "cell_type": "markdown",
   "metadata": {},
   "source": [
    "We may notice, in the first case we cannot see neither the two peaks which are typical of ground state wave function for our system. After that, we've set a finite temperature for our system, to observe which form $\\Psi$ has to assume for higher energy levels:"
   ]
  },
  {
   "cell_type": "code",
   "execution_count": null,
   "metadata": {
    "collapsed": true
   },
   "outputs": [],
   "source": []
  }
 ],
 "metadata": {
  "kernelspec": {
   "display_name": "Python 3",
   "language": "python",
   "name": "python3"
  },
  "language_info": {
   "codemirror_mode": {
    "name": "ipython",
    "version": 3
   },
   "file_extension": ".py",
   "mimetype": "text/x-python",
   "name": "python",
   "nbconvert_exporter": "python",
   "pygments_lexer": "ipython3",
   "version": "3.6.0"
  }
 },
 "nbformat": 4,
 "nbformat_minor": 2
}
