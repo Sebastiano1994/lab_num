{
 "cells": [
  {
   "cell_type": "markdown",
   "metadata": {},
   "source": [
    "## <span style=\"color:blue\">  Advanced Genetic Algorithm Techniques</span>"
   ]
  },
  {
   "cell_type": "markdown",
   "metadata": {},
   "source": [
    "**Annealing Method**"
   ]
  },
  {
   "cell_type": "markdown",
   "metadata": {},
   "source": [
    "In the previous exercise, we generated a vaste population of 100 individuals, acting randomly over all chromosomes whose cost function wasn't the minimum one. By introducing annealing techniques, we're going to use a Metropolis algorithm to accept or discard specific mutations on each chromosome; thus, we need to define a \"probability\" over this population. Essentially, we can borrow from Boltzmann distribution an idea of what we need:"
   ]
  },
  {
   "cell_type": "markdown",
   "metadata": {},
   "source": [
    "$$ p(S_i) = e^{-\\beta L(S_i)} $$"
   ]
  },
  {
   "cell_type": "markdown",
   "metadata": {},
   "source": [
    "That is, $L$ cost function replaces hamiltonian operator in our theory: the higher the cost, the lower the probability to remain in that state. In this case, $\\beta$ is just a parameter to set, which has no physical meaning, but it will affect our Metropolis algorithm: in fact, when mutating $i$-th chromosome, corresponding probability is given by"
   ]
  },
  {
   "cell_type": "markdown",
   "metadata": {},
   "source": [
    "$$ \\frac{e^{-\\beta L(S_1)}}{e^{-\\beta L(S_0)}} = \\exp{\\left(-\\beta \\Delta L\\right)} $$"
   ]
  },
  {
   "cell_type": "markdown",
   "metadata": {},
   "source": [
    "$S_0$, $S_1$ standing for the same sequence before and after recombining. The higher the value of $\\beta$, the higher the probability to accept ($\\Delta L>0$) or discard ($\\Delta L<0$) the mutation we induced. Hence, what we're going to do is define a high temperature (i.e. a low value of $\\beta$): while acting on the whole population via a combination of genetic operators and Metropolis acceptance, we have to lowering gradually the temperature (raising $\\beta$): at the end, probability of accepting even the smallest cost increase $\\Delta L>0$ will be null. Let's say, we're gonna increasing $\\beta$ by 0.1 units each timestep (beta+=0.1). Warning: annealing involves we're introducing potential walls too, with many risks to fall in local minima (instead of a global one); it could be useful to start from very different sequences, when allocating initial chromosomes."
   ]
  },
  {
   "cell_type": "markdown",
   "metadata": {},
   "source": [
    "Here we show our results for annealing on a squared perimeter:"
   ]
  },
  {
   "cell_type": "markdown",
   "metadata": {},
   "source": [
    "<img src=\"graph/opt_sq_ann.png\" />\n",
    "<img src=\"graph/Cities_sq_ann.png\" />\n"
   ]
  },
  {
   "cell_type": "markdown",
   "metadata": {},
   "source": [
    "and a rounded one:"
   ]
  },
  {
   "cell_type": "markdown",
   "metadata": {},
   "source": [
    "<img src=\"graph/opt_crcl_ann.png\" />\n",
    "<img src=\"graph/Cities_crcl_ann.png\" />"
   ]
  },
  {
   "cell_type": "markdown",
   "metadata": {},
   "source": [
    "As we see, distance optimization graph is far steeper this time: annealing algorithm greatly improves performances! this because the whole system is made evolving by a dynamical probability, not simply by a stochastic search. As a matter of fact, you may notice that this time we've set a number of step $M=10^4$, which is far smaller (one magnitude) than $10^5$, which was required for equilibration by vanilla genetic algorithms."
   ]
  },
  {
   "cell_type": "markdown",
   "metadata": {},
   "source": [
    "**Parallel Annealing**"
   ]
  },
  {
   "cell_type": "markdown",
   "metadata": {},
   "source": [
    "A further improvement is given by parallelize computation: instead of one core, we introduce parallel searches by exploiting several cores. This may be achieved by implementing MPI standard in our code:"
   ]
  }
 ],
 "metadata": {
  "kernelspec": {
   "display_name": "Python 3",
   "language": "python",
   "name": "python3"
  },
  "language_info": {
   "codemirror_mode": {
    "name": "ipython",
    "version": 3
   },
   "file_extension": ".py",
   "mimetype": "text/x-python",
   "name": "python",
   "nbconvert_exporter": "python",
   "pygments_lexer": "ipython3",
   "version": "3.6.0"
  }
 },
 "nbformat": 4,
 "nbformat_minor": 2
}
