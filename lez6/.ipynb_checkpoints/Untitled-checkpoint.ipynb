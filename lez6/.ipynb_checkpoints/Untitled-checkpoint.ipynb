{
 "cells": [
  {
   "cell_type": "markdown",
   "metadata": {},
   "source": [
    "**Simulation of a 1D Ising Model**"
   ]
  },
  {
   "cell_type": "markdown",
   "metadata": {},
   "source": [
    "In this program, we want to simulate 1D Ising model behaviour, a chain of 50 spins, measuring mascroscopic observables such as magnetization $m$, heat capacity $C$, magnetic susceptivity and internal energy $U$ per spin. Our spins are defined as integers which can assume $\\pm$1 values (up and down)."
   ]
  },
  {
   "cell_type": "markdown",
   "metadata": {},
   "source": [
    "We must remember, as we're dealing with 1D system, there's no phase transition except for the trivial one, at $T=0$, which we're not interested in: our measures on the previous quantities will range from $T=0.2$ to $T=3$, in order to plot their behaviour by changing the system temperature. First of all, let's start from the hamiltonian:"
   ]
  },
  {
   "cell_type": "markdown",
   "metadata": {},
   "source": [
    "$$ H = - J \\sum_{i=0}^N s_i s_{i+1} + \\frac{h}{2} \\sum_{i=0}^{N} s_i $$"
   ]
  },
  {
   "cell_type": "markdown",
   "metadata": {},
   "source": [
    "where $N$ stands for the number of spins, $J$ is the interaction between spins, which is $0$ if the spins are further than two grid positions, while is $J>0$ (constant value) if the two spins are close to each other (nearest neighbour ferromagnetic interaction), $h$ represent the coupling between each spin and a generic external field (a magnetic one in literature). As we'll observe no phase transition but the trivial one, in order to measure magnetization we will set $h=0.02$, while for measuring over all the other observables we'll switch off the external field ($h=0$); $h$ value may be set in file input.dat at line 4."
   ]
  },
  {
   "cell_type": "markdown",
   "metadata": {},
   "source": [
    "Furthermore, our simulation will exploit both Metropolis and Gibbs algorithms for evolution and equilibration of our system: this time, our probability is given by the Boltzmann law:"
   ]
  },
  {
   "cell_type": "markdown",
   "metadata": {},
   "source": [
    "$$ p(\\{s_i \\}) = e^{-\\beta H} $$"
   ]
  },
  {
   "cell_type": "markdown",
   "metadata": {},
   "source": [
    "where $\\{ s_i \\}$ designs a particular spin configuration; $\\beta$ of course is the inverse of temperature. Analogously to exercise 5, our Metropolis algorithm should evaluate the following condition:"
   ]
  },
  {
   "cell_type": "markdown",
   "metadata": {},
   "source": [
    "$$ \\frac{e^{-\\beta H(\\{s_1\\})}}{e^{-\\beta H(\\{s_0\\})}} = e^{-\\beta\\Delta E} \\geq r  $$"
   ]
  },
  {
   "cell_type": "markdown",
   "metadata": {},
   "source": [
    "where $\\Delta E$ is the difference of energy between the previous $\\{s_0\\}$ configuration and the new one $\\{s_1\\}$, and $r$ is the usual random number uniformly generated in $[0;1]$; if the upper condition is accomplished, we may save the new configuration and measure our quantities, otherwise we'll keep the previous one. What we've done is: we choose a random spin between 1 and 50, we evaluate the cost of flipping, then Metropolis algorithm determines to flip or not to flip the chosen spin. In order to equilibrate the system before measuring, we've decided to move the system for a while without measuring any quantity (let's say, if a maximum of step is given, we add another 1/3, nearly, of these moves in order to equilibrate). Furthermore, before beginning with simulation, the user may choose to generate a random new configuration or to start from a saved one (from text file config.final) at the end of a previous simulation: this may be useful when we want to reach equilibrium at low $T$, or when we want to raise, simulation after simulation, our temperature by a little increase (for instance, after a simulation at $T=0.3$, we want to evolve the same system at $T=0.4$). This option can be switched at line 8 of file input.dat: if is set to $0$, it means the system will generate a new random configuration to equilibrate, otherwise, for any other number, the executable will start from a previous configuration saved in config.final."
   ]
  },
  {
   "cell_type": "markdown",
   "metadata": {},
   "source": [
    "Typically, we started from $T=0.2$ and we made some simulations (3 or 4) to equilibrate the system; first time a random configuration was drawn, after that we kept equilibrating from the old ones. After that, we started measuring our observables, saving the final averages (calculated in main.cpp directly) in Info.csv and Info_m.csv files at the end of simulation, while the blocking averages were saved in output.csv files (output_ene.csv for energy, output_m.csv for magnetization and so on); from these blocking averages we've calculated the relative errors. After that, we've nothing but to repeat the same procedure for all temperature we're interested in. At the end, we've plotted the following graphs (in function of temperature):"
   ]
  },
  {
   "cell_type": "markdown",
   "metadata": {},
   "source": [
    "<img src=\"graphs_Metro/U.png\" />\n",
    "Internal energy per spin $U/N$"
   ]
  },
  {
   "cell_type": "markdown",
   "metadata": {},
   "source": [
    "<img src=\"graphs_Metro/M.png\" />\n",
    "Magnetization $M$\n"
   ]
  },
  {
   "cell_type": "markdown",
   "metadata": {},
   "source": [
    "<img src=\"graphs_Metro/Chi.png\" />\n",
    "Magnetic susceptivity $\\chi$"
   ]
  },
  {
   "cell_type": "markdown",
   "metadata": {},
   "source": [
    "<img src=\"graphs_Metro/C.png\" />\n",
    "Heat capacity $C$"
   ]
  },
  {
   "cell_type": "markdown",
   "metadata": {},
   "source": [
    "As we may notice, errors are far too small for $C$ and $\\chi$ to be seen. Now, we will try the same experiment but with a different algorithm, the Gibbs sampling: although the program is unaltered, spin flipping is now determined by a different method. Gibbs algorithm chooses a different transition probability which is given by"
   ]
  },
  {
   "cell_type": "markdown",
   "metadata": {},
   "source": [
    "$$ T(x|y) = \\frac{p(x)}{p(x) + p(y)} $$"
   ]
  },
  {
   "cell_type": "markdown",
   "metadata": {},
   "source": [
    "$x$ and $y$ may stand for two $\\{s_0\\}$ and $\\{s_1\\}$ spin configurations. This acceptance is shown to respect detailed balance and to have acceptance always equal to 1! The latter sentence can be demostrated inserting $T(x|y)$ in Ising $A(x|y)$.  Let's see interpretation of this acceptance probability: let's pick up $j$-th spin, where $x$ configuration (the old one) has spin up, while $y$ has spin down."
   ]
  },
  {
   "cell_type": "markdown",
   "metadata": {},
   "source": [
    "If $p(x)>>p(y)$, then transition probability is close to be 1, which means $j$-th spin is up."
   ]
  },
  {
   "cell_type": "markdown",
   "metadata": {},
   "source": [
    "If $P(x)<<p(y)$, then acceptance is nearly zero, which involves $j$-th spin is down."
   ]
  },
  {
   "cell_type": "markdown",
   "metadata": {},
   "source": [
    "Now, let's show our measurements through Gibbs sampling:"
   ]
  },
  {
   "cell_type": "markdown",
   "metadata": {},
   "source": [
    "<img src=\"graphs_Gibbs/U.png\" />\n",
    "Internal energy per spin, $U/N$"
   ]
  },
  {
   "cell_type": "markdown",
   "metadata": {},
   "source": [
    "<img src=\"graphs_Gibbs/M.png\" />\n",
    "Magnetization $M$"
   ]
  },
  {
   "cell_type": "markdown",
   "metadata": {},
   "source": [
    "<img src=\"graphs_Gibbs/chi.png\" />\n",
    "Magnetic susceptibility $\\chi$"
   ]
  },
  {
   "cell_type": "markdown",
   "metadata": {},
   "source": [
    "<img src=\"graphs_Gibbs/C.png\" />\n",
    "Heat Capacity $C$"
   ]
  },
  {
   "cell_type": "markdown",
   "metadata": {},
   "source": [
    "Just as before, heat capacity and magnetic susceptibility have too small uncertainties to be seen on the plot."
   ]
  },
  {
   "cell_type": "code",
   "execution_count": null,
   "metadata": {
    "collapsed": true
   },
   "outputs": [],
   "source": []
  }
 ],
 "metadata": {
  "kernelspec": {
   "display_name": "Python 3",
   "language": "python",
   "name": "python3"
  },
  "language_info": {
   "codemirror_mode": {
    "name": "ipython",
    "version": 3
   },
   "file_extension": ".py",
   "mimetype": "text/x-python",
   "name": "python",
   "nbconvert_exporter": "python",
   "pygments_lexer": "ipython3",
   "version": "3.6.0"
  }
 },
 "nbformat": 4,
 "nbformat_minor": 2
}
