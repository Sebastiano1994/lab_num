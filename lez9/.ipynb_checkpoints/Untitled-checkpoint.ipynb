{
 "cells": [
  {
   "cell_type": "markdown",
   "metadata": {},
   "source": [
    "**Travel Salesman Problem by Genetic Algorithms**"
   ]
  },
  {
   "cell_type": "markdown",
   "metadata": {},
   "source": [
    "Travel salesman is the most known problem of combinatorial optimization, i.e. there's no continuous function to optimize, but instead a discrete sequence of elements to rearrange in the best way to obtain a minimum cost: in our case, we have a sequence of cities to visit, and the cost function is nothing but the total covered distance among the cities. Genetic algorithm is a stochastic method which aims to provide a solution by inducing random permutations in our city sequences. Let's take an example: we want to visit five cities, labeled by five numbers respectively, in the following order:"
   ]
  },
  {
   "cell_type": "markdown",
   "metadata": {},
   "source": [
    " $$S_1 = [1, 2, 3, 4, 5]$$"
   ]
  },
  {
   "cell_type": "markdown",
   "metadata": {},
   "source": [
    "which path is not necessarily the shortest one, thus we can use a cost function $L$ to evaluate the total distance: this will be nothing but"
   ]
  },
  {
   "cell_type": "markdown",
   "metadata": {},
   "source": [
    "$$ L(S_1) = d(1,2) + d(2,3) + d(3,4) + d(4,5) + d(5,1) $$"
   ]
  },
  {
   "cell_type": "markdown",
   "metadata": {},
   "source": [
    "where we can define $d$ as the usual euclidean distance between two points in a plane:"
   ]
  },
  {
   "cell_type": "markdown",
   "metadata": {},
   "source": [
    "$$ d(1,2) = \\sqrt{(x_1-x_2)^2 + (y_1-y_2)^2} $$"
   ]
  },
  {
   "cell_type": "markdown",
   "metadata": {},
   "source": [
    "or we may use other definitions, for example we can avoid square root computation, which is only time-exceeding when running the program; indeed, this has been our choice:"
   ]
  },
  {
   "cell_type": "markdown",
   "metadata": {},
   "source": [
    "$$ d(1,2) = (x_1-x_2)^2 + (y_1-y_2)^2 $$"
   ]
  },
  {
   "cell_type": "markdown",
   "metadata": {},
   "source": [
    "Back to genetic algorithms, we may induce some basic permutations, such as"
   ]
  },
  {
   "cell_type": "markdown",
   "metadata": {},
   "source": [
    "$$ S_2 = [1, 3, 2, 4, 5] $$"
   ]
  },
  {
   "cell_type": "markdown",
   "metadata": {},
   "source": [
    "Now we may evaluate if the previous sequence was worthier than the actual one: if it is, we may discard $S_2$, otherwise we'll keep $S_2$ discarding $S_1$. This is evalued by confronting $L(S_1)$ and $L(S_2)$:"
   ]
  },
  {
   "cell_type": "markdown",
   "metadata": {},
   "source": [
    "$L(S_1) > L(S_2) \\longrightarrow $ discard $S_1$"
   ]
  },
  {
   "cell_type": "markdown",
   "metadata": {},
   "source": [
    "$L(S_2) > L(S_1) \\longrightarrow $ discard $S_2$"
   ]
  },
  {
   "cell_type": "markdown",
   "metadata": {},
   "source": [
    "From here on, we'll proceed in the same manner with the left sequence. However, we may introduce many other transformations on these sequences, which we'll call \"chromosomes\", and far more of these chromosomes in our population. Let's flash out which kind of transformation we've used in our program:"
   ]
  },
  {
   "cell_type": "markdown",
   "metadata": {},
   "source": [
    "*Mutations*: these are nothing but simple exchanges between two elements (genes) in a string, as we've shown in the previous example. We will use bold type for these two genes:"
   ]
  },
  {
   "cell_type": "markdown",
   "metadata": {},
   "source": [
    "$$ [1, 2, \\textbf{3}, 4, \\textbf{5}] \\longrightarrow [1, 2, 5, 4, 3] $$"
   ]
  },
  {
   "cell_type": "markdown",
   "metadata": {},
   "source": [
    "*Mirroring*: we choose two random positions in a chromosome from 1 to $n$ (which is the maximum position in the string of genes), then we invert the middle sequence. We will use bold type again to underline these positions:"
   ]
  },
  {
   "cell_type": "markdown",
   "metadata": {},
   "source": [
    "$$ [1, \\textbf{2}, 3, 4, \\textbf{5}] \\longrightarrow [1, 5, 4, 3, 2] $$"
   ]
  },
  {
   "cell_type": "markdown",
   "metadata": {},
   "source": [
    "It works even for an odd number of elements, the central one kept fixed:"
   ]
  },
  {
   "cell_type": "markdown",
   "metadata": {},
   "source": [
    "$$ [1, \\textbf{2}, 3, \\textbf{4}, 5] \\longrightarrow [1, 4, 3, 2, 5] $$"
   ]
  },
  {
   "cell_type": "markdown",
   "metadata": {},
   "source": [
    "*Slicing*: we split our chromosome (from a random gene) into two parts, then we exchange them. We'll use bold type to show the \"breaking point\":"
   ]
  },
  {
   "cell_type": "markdown",
   "metadata": {},
   "source": [
    "$$ [1, 2, \\textbf{3}, 4, 5] \\longrightarrow [3, 4, 5, 1, 2] $$"
   ]
  },
  {
   "cell_type": "markdown",
   "metadata": {},
   "source": [
    "*Cross-over*: this genetic operator involves two chomosomes. First of all, select two of them, then a \"crossing point\", from which they'll start exchanging genetic material (and which will be in bold type):"
   ]
  },
  {
   "cell_type": "markdown",
   "metadata": {},
   "source": [
    "$$ S_1 = [1,2,\\textbf{3},4,5] \\\\\n",
    "   S_2 = [3,5,\\textbf{4},1,2] $$"
   ]
  },
  {
   "cell_type": "markdown",
   "metadata": {},
   "source": [
    "Now, in the first chromosome $S_1$, we have to cut off all the elements after $\\textbf{3}$ and substitute them with those in $S_2$, following $s_2$ ordered sequence:"
   ]
  },
  {
   "cell_type": "markdown",
   "metadata": {},
   "source": [
    "$$ S_1 = [1, 2, 3, 5, 4] $$"
   ]
  },
  {
   "cell_type": "markdown",
   "metadata": {},
   "source": [
    "As in $S_2$ sequence $5$ precedes $4$."
   ]
  },
  {
   "cell_type": "markdown",
   "metadata": {},
   "source": [
    "To start, we need to generate some positions for our cities: we'll matter with two different cases, in the first one we'll generate 30 cities disposed around a circle line, while in the latter we'll do the same but on a squared one. Labelling each city with a number from $0$ to $29$, we'll save these coords in a vector; using this coord vector, we may know the distance among all pair of cities. Thereafter, we're going to define a cost function $L$ able to evaluate the sum of all distances in a string of cities, keeping fixed all the cities coordinates (but not their sequence). Definition of $L(S_1)$ is identical to the previous one we've mentioned."
   ]
  },
  {
   "cell_type": "markdown",
   "metadata": {},
   "source": [
    "As we have all the cities, with their labels and coordinates, our task now lies in building up a population of strings: this may be accomplished by installing a double array $S$, whose rows point at the chromosomes, while the colums the genes. To make it more concrete: $S[P][C]$ is our array, with $P$ being the number of chromosomes (strings) which assemble our population and $C$ the sequences elements in each chromosome. In our case, we have to deal with 30 cities, thus $C=30$, and $P$ may be fixed as $100$ (so we'll have 100 strings to be remixed by our genetic operators); $S[i][j]$ points at the $j$-th gene in the $i$-th chromosome. The lenght function $L$ we've defined above takes a string as input and returns all distances sum. At this point, we need to give our algorithm a structure: let's call L_min the shortest sum over all distances (for a specific sequence S_i), then our code will work something like:"
   ]
  },
  {
   "cell_type": "markdown",
   "metadata": {},
   "source": [
    "    install city coordinates\n",
    "    define cost function L\n",
    "    define genetic operators\n",
    "    generate chromosomes\n",
    "    for i in range(m):\n",
    "        evaluate L_min\n",
    "        if L(S[i])>L_min:\n",
    "            mutate S[i]"
   ]
  },
  {
   "cell_type": "markdown",
   "metadata": {
    "collapsed": true
   },
   "source": [
    "Once the code is written, we've only to decide how many $M$ steps our algorithm will take: confronting with a population of 100 chromosomes, $10^5$ steps seemed to be the best computational time vs efficiency compromise. Step by step, we saved our L_min in a vector end[M] for each step, to be exported in a reading file (dati.dat), then plotted by script.py to see the distance trend through the number of steps:"
   ]
  },
  {
   "cell_type": "markdown",
   "metadata": {},
   "source": [
    "<img src=\"graphs/circle.png\" />\n",
    "for cities settled around a circle line"
   ]
  },
  {
   "cell_type": "markdown",
   "metadata": {},
   "source": [
    "<img src=\"graphs/squared.png\" />\n",
    "for cities settled on a square"
   ]
  },
  {
   "cell_type": "markdown",
   "metadata": {},
   "source": [
    "Now, let's see come cities disposition and final trajectories between them:"
   ]
  },
  {
   "cell_type": "markdown",
   "metadata": {},
   "source": [
    "<img src=\"graphs/Cities_crcl.png\" />\n",
    "for round-disposed cities"
   ]
  },
  {
   "cell_type": "markdown",
   "metadata": {},
   "source": [
    "<img src=\"graphs/Cities_sq2.png\" />\n",
    "for squared path"
   ]
  },
  {
   "cell_type": "markdown",
   "metadata": {},
   "source": [
    "For these graphs, we've exported cities coordinates in file positions.csv and the best sequence of cities in conf_final.csv, then we've plotted launching coords.py script."
   ]
  },
  {
   "cell_type": "code",
   "execution_count": null,
   "metadata": {
    "collapsed": true
   },
   "outputs": [],
   "source": []
  }
 ],
 "metadata": {
  "kernelspec": {
   "display_name": "Python 3",
   "language": "python",
   "name": "python3"
  },
  "language_info": {
   "codemirror_mode": {
    "name": "ipython",
    "version": 3
   },
   "file_extension": ".py",
   "mimetype": "text/x-python",
   "name": "python",
   "nbconvert_exporter": "python",
   "pygments_lexer": "ipython3",
   "version": "3.6.0"
  }
 },
 "nbformat": 4,
 "nbformat_minor": 2
}
